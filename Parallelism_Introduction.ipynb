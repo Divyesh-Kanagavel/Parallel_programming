{
  "nbformat": 4,
  "nbformat_minor": 0,
  "metadata": {
    "colab": {
      "provenance": []
    },
    "kernelspec": {
      "name": "python3",
      "display_name": "Python 3"
    },
    "language_info": {
      "name": "python"
    }
  },
  "cells": [
    {
      "cell_type": "markdown",
      "source": [
        "Speedup : $\\frac{T(1)}{T(p)}$, where T() is the execution time and p is the number of processors."
      ],
      "metadata": {
        "id": "mm2Q9clmwoKG"
      }
    },
    {
      "cell_type": "markdown",
      "source": [
        "Efficienty : $\\frac{T(1)}{T(p)*p}$, where p is the number of processors"
      ],
      "metadata": {
        "id": "wsiGQ_ONw-Li"
      }
    },
    {
      "cell_type": "markdown",
      "source": [
        "The best possible speedup is linear speedup [some cases of superlinear speedup are also possible], i.e speedup is p and in that case Efficiency is 100%"
      ],
      "metadata": {
        "id": "E_kGnZ_5xJPF"
      }
    },
    {
      "cell_type": "markdown",
      "source": [
        "Cost : $T(p) * p$"
      ],
      "metadata": {
        "id": "-CFPMSkoxUN8"
      }
    },
    {
      "cell_type": "markdown",
      "source": [
        "Another metric to consider is the scalability of processors i.e monitor the performance of the parallel computation system as number of processors vary 1,2,4,8,16,32,64 etc.\n",
        "\n",
        "Weak scalability : increase the number of processors and the input size\n",
        "Strong scalability : increase the number of processors keeping the input size constant."
      ],
      "metadata": {
        "id": "o-90tVM9xbRc"
      }
    },
    {
      "cell_type": "markdown",
      "source": [
        "Computation-Communication ratio:\n",
        "Time spent calculating (computation in processes) / Time spend communicating the data between processes\n",
        "Higher ratio : more efficient processing of data"
      ],
      "metadata": {
        "id": "fCvspYU1yaNP"
      }
    },
    {
      "cell_type": "markdown",
      "source": [
        "An example illustrating the above ideas for a problem of adding a bunch of numbers and offloading the computations on varying number of processors\n",
        "assumptions:\n",
        "computation : Each processing unit can add two numbers stored in its local memory unit in one time unit\n",
        "Communication : A PE can send data from its local memory to local memory of another PE in three time units[independent of size of data sent]\n",
        "I/p and o/p : at the beginning all the data is stored in PE #0 and then after computations o/p to be stored in PE #0 .\n",
        "Synchonization :PEs can either compute, communicate or be idle. computation and communication cannot overlap.\n",
        "\n"
      ],
      "metadata": {
        "id": "0PXSJwbx0EC-"
      }
    },
    {
      "cell_type": "markdown",
      "source": [
        "Calculation of runtime for linear case:\n",
        "for single PE #0 : For n numbers, n-1 additions are to be carried out.\n",
        "T(0) = n-1 time units\n"
      ],
      "metadata": {
        "id": "Sb3J7pmK1Ydk"
      }
    },
    {
      "cell_type": "markdown",
      "source": [
        "for PE = 2: \\\n",
        "n/2 numbers can be in first processer and n/2 numbers will be transported to second processors -> 3 time units\n",
        "n/2 - 1 additions will take place in both processors => n/2 -1 time units\n",
        "then the sum will be pulled to first processor -> 3 units\n",
        "then one more addition - first result + second result \\\n",
        "total time : 3 + n/2-1 + 3 + 1 = n/2 + 6 units.\\\n",
        "to make it more concrete, say we have 1024 numbers whose sum is to be computed, the total time will be : 1024/2 + 6 = 512+6 = 518 units\n"
      ],
      "metadata": {
        "id": "J_dHyaRD13sN"
      }
    },
    {
      "cell_type": "markdown",
      "source": [
        "Speedup is computed as followed : \\\n",
        "$\\frac{T(1)}{T(2)}  = \\frac{1023}{518} = 1.975$\\\n",
        "$ Efficiency = \\frac{1.975}{2} = 0.9875 $\n"
      ],
      "metadata": {
        "id": "2lcGPShG22vh"
      }
    },
    {
      "cell_type": "markdown",
      "source": [
        "for PE = 4:\\\n",
        "n/2 numbers will be moved to processor 2 and then n/4 numbers each will be moved to processor 3 and processor 4 from processor 1 and 2 respectively ,meaning a 3X2 = 6 time units are used.\\\n",
        "n/4 - 1 additions per processor , meaning n/4 - 1 time units.\\\n",
        "then sum4 is moved to processor2 and sum3 is moved to processor 1 -> 3 units\n",
        "sum4 + sum2 , sum3 + sum1 = 1 unit \\\n",
        "then move sum2+sum4 to processor 1 -> 3 units\\\n",
        "final sum - 1 unit.\\\n",
        "total time = 6 + n/4-1 + 3 + 1 + 3 + 1 = n/4+13 units , for n = 1024 , time = 269.\\\n",
        "\n",
        "Speedup is computed as : $\\frac{T(1)}{T(4)} = \\frac{1023}{269} = 3.8029$.\\\n",
        "Efficiency  = $\\frac{3.8029}{4} = 0.9507$.\n"
      ],
      "metadata": {
        "id": "cc_MrE29FZft"
      }
    },
    {
      "cell_type": "code",
      "source": [],
      "metadata": {
        "id": "dontuh2nwxAo"
      },
      "execution_count": null,
      "outputs": []
    }
  ]
}